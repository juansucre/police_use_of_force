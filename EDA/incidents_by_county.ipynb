{
 "cells": [
  {
   "cell_type": "code",
   "execution_count": 1,
   "metadata": {},
   "outputs": [],
   "source": [
    "import seaborn as sns\n",
    "import pandas as pd\n",
    "import numpy as np\n",
    "import matplotlib.pyplot as plt\n",
    "%matplotlib inline"
   ]
  },
  {
   "cell_type": "code",
   "execution_count": 2,
   "metadata": {},
   "outputs": [],
   "source": [
    "civilian_df = pd.read_pickle('./dataframes/civ_inc_df.pkl')"
   ]
  },
  {
   "cell_type": "code",
   "execution_count": 3,
   "metadata": {},
   "outputs": [],
   "source": [
    "incident_df = pd.read_pickle('./dataframes/incident_df.pkl')"
   ]
  },
  {
   "cell_type": "code",
   "execution_count": 4,
   "metadata": {},
   "outputs": [],
   "source": [
    "# Population data source: http://www.dof.ca.gov/Forecasting/Demographics/Estimates/E-1/\n",
    "\n",
    "counties_pop = pd.read_csv('./dataframes/Untitled spreadsheet - Sheet1.csv')"
   ]
  },
  {
   "cell_type": "code",
   "execution_count": 5,
   "metadata": {},
   "outputs": [],
   "source": [
    "counties_pop['Population'] = counties_pop['Population'].str.replace(',', '')\n",
    "\n",
    "counties_pop['Population'] = counties_pop['Population'].apply(int)"
   ]
  },
  {
   "cell_type": "code",
   "execution_count": 6,
   "metadata": {},
   "outputs": [],
   "source": [
    "counties_pop['%'] = [(x/counties_pop['Population'].sum())*100 for x in counties_pop['Population']]"
   ]
  },
  {
   "cell_type": "code",
   "execution_count": 7,
   "metadata": {
    "scrolled": true
   },
   "outputs": [],
   "source": [
    "counties_pop = counties_pop.set_index('County')"
   ]
  },
  {
   "cell_type": "code",
   "execution_count": 8,
   "metadata": {},
   "outputs": [],
   "source": [
    "# Counties that did NOT report any incidents of use of force.\n",
    "\n",
    "drop_counties = ['Alpine', 'Sierra', 'Trinity', 'Mono', 'Colusa', 'Amador', 'Tuolumne', 'Marin']"
   ]
  },
  {
   "cell_type": "code",
   "execution_count": 9,
   "metadata": {},
   "outputs": [],
   "source": [
    "counties_pop = counties_pop.drop(drop_counties, axis=0)"
   ]
  },
  {
   "cell_type": "code",
   "execution_count": 10,
   "metadata": {},
   "outputs": [],
   "source": [
    "incidents_county = pd.DataFrame(incident_df['County'].value_counts())\n",
    "\n",
    "incidents_county.columns = ['# of incidents']\n",
    "\n",
    "incidents_county['%'] = [(x/incidents_county['# of incidents'].sum())*100 for x in incidents_county['# of incidents']]\n",
    "\n",
    "incidents_county.columns = ['# of incidents', '% of incidents']\n",
    "\n",
    "# Set it to be sorted alphabetically by county so that both dataframes match.\n",
    "\n",
    "incidents_county = incidents_county.sort_index()"
   ]
  },
  {
   "cell_type": "code",
   "execution_count": 11,
   "metadata": {},
   "outputs": [],
   "source": [
    "incidents_county['Population'] = counties_pop['Population'].values"
   ]
  },
  {
   "cell_type": "code",
   "execution_count": 12,
   "metadata": {},
   "outputs": [],
   "source": [
    "incidents_county['% of Pop'] = counties_pop['%'].values"
   ]
  },
  {
   "cell_type": "code",
   "execution_count": 13,
   "metadata": {},
   "outputs": [
    {
     "data": {
      "text/html": [
       "<div>\n",
       "<table border=\"1\" class=\"dataframe\">\n",
       "  <thead>\n",
       "    <tr style=\"text-align: right;\">\n",
       "      <th></th>\n",
       "      <th># of incidents</th>\n",
       "      <th>% of incidents</th>\n",
       "      <th>Population</th>\n",
       "      <th>% of Pop</th>\n",
       "    </tr>\n",
       "  </thead>\n",
       "  <tbody>\n",
       "    <tr>\n",
       "      <th>Alameda County</th>\n",
       "      <td>20</td>\n",
       "      <td>2.557545</td>\n",
       "      <td>1629233</td>\n",
       "      <td>4.157370</td>\n",
       "    </tr>\n",
       "    <tr>\n",
       "      <th>Butte County</th>\n",
       "      <td>4</td>\n",
       "      <td>0.511509</td>\n",
       "      <td>224703</td>\n",
       "      <td>0.573382</td>\n",
       "    </tr>\n",
       "    <tr>\n",
       "      <th>Calaveras County</th>\n",
       "      <td>2</td>\n",
       "      <td>0.255754</td>\n",
       "      <td>45246</td>\n",
       "      <td>0.115456</td>\n",
       "    </tr>\n",
       "    <tr>\n",
       "      <th>Contra Costa County</th>\n",
       "      <td>27</td>\n",
       "      <td>3.452685</td>\n",
       "      <td>1126824</td>\n",
       "      <td>2.875355</td>\n",
       "    </tr>\n",
       "    <tr>\n",
       "      <th>Del Norte County</th>\n",
       "      <td>1</td>\n",
       "      <td>0.127877</td>\n",
       "      <td>27006</td>\n",
       "      <td>0.068912</td>\n",
       "    </tr>\n",
       "  </tbody>\n",
       "</table>\n",
       "</div>"
      ],
      "text/plain": [
       "                     # of incidents  % of incidents  Population  % of Pop\n",
       "Alameda County                   20        2.557545     1629233  4.157370\n",
       "Butte County                      4        0.511509      224703  0.573382\n",
       "Calaveras County                  2        0.255754       45246  0.115456\n",
       "Contra Costa County              27        3.452685     1126824  2.875355\n",
       "Del Norte County                  1        0.127877       27006  0.068912"
      ]
     },
     "execution_count": 13,
     "metadata": {},
     "output_type": "execute_result"
    }
   ],
   "source": [
    "incidents_county.head()"
   ]
  },
  {
   "cell_type": "code",
   "execution_count": 14,
   "metadata": {},
   "outputs": [],
   "source": [
    "incidents_county['% difference'] = [row['% of incidents'] - row['% of Pop'] for idx, row in incidents_county.iterrows()]"
   ]
  },
  {
   "cell_type": "code",
   "execution_count": 15,
   "metadata": {},
   "outputs": [
    {
     "data": {
      "text/html": [
       "<div>\n",
       "<table border=\"1\" class=\"dataframe\">\n",
       "  <thead>\n",
       "    <tr style=\"text-align: right;\">\n",
       "      <th></th>\n",
       "      <th># of incidents</th>\n",
       "      <th>% of incidents</th>\n",
       "      <th>Population</th>\n",
       "      <th>% of Pop</th>\n",
       "      <th>% difference</th>\n",
       "    </tr>\n",
       "  </thead>\n",
       "  <tbody>\n",
       "    <tr>\n",
       "      <th>San Bernardino County</th>\n",
       "      <td>71</td>\n",
       "      <td>9.079284</td>\n",
       "      <td>2135724</td>\n",
       "      <td>5.449800</td>\n",
       "      <td>3.629484</td>\n",
       "    </tr>\n",
       "    <tr>\n",
       "      <th>Kern County</th>\n",
       "      <td>36</td>\n",
       "      <td>4.603581</td>\n",
       "      <td>886803</td>\n",
       "      <td>2.262886</td>\n",
       "      <td>2.340695</td>\n",
       "    </tr>\n",
       "    <tr>\n",
       "      <th>Riverside County</th>\n",
       "      <td>60</td>\n",
       "      <td>7.672634</td>\n",
       "      <td>2348213</td>\n",
       "      <td>5.992015</td>\n",
       "      <td>1.680619</td>\n",
       "    </tr>\n",
       "    <tr>\n",
       "      <th>Los Angeles County</th>\n",
       "      <td>212</td>\n",
       "      <td>27.109974</td>\n",
       "      <td>10182961</td>\n",
       "      <td>25.984210</td>\n",
       "      <td>1.125765</td>\n",
       "    </tr>\n",
       "    <tr>\n",
       "      <th>San Joaquin County</th>\n",
       "      <td>23</td>\n",
       "      <td>2.941176</td>\n",
       "      <td>735677</td>\n",
       "      <td>1.877252</td>\n",
       "      <td>1.063924</td>\n",
       "    </tr>\n",
       "    <tr>\n",
       "      <th>Fresno County</th>\n",
       "      <td>26</td>\n",
       "      <td>3.324808</td>\n",
       "      <td>985079</td>\n",
       "      <td>2.513660</td>\n",
       "      <td>0.811148</td>\n",
       "    </tr>\n",
       "    <tr>\n",
       "      <th>Santa Barbara County</th>\n",
       "      <td>15</td>\n",
       "      <td>1.918159</td>\n",
       "      <td>447295</td>\n",
       "      <td>1.141378</td>\n",
       "      <td>0.776781</td>\n",
       "    </tr>\n",
       "    <tr>\n",
       "      <th>Tulare County</th>\n",
       "      <td>14</td>\n",
       "      <td>1.790281</td>\n",
       "      <td>466563</td>\n",
       "      <td>1.190545</td>\n",
       "      <td>0.599737</td>\n",
       "    </tr>\n",
       "    <tr>\n",
       "      <th>Contra Costa County</th>\n",
       "      <td>27</td>\n",
       "      <td>3.452685</td>\n",
       "      <td>1126824</td>\n",
       "      <td>2.875355</td>\n",
       "      <td>0.577330</td>\n",
       "    </tr>\n",
       "    <tr>\n",
       "      <th>Yuba County</th>\n",
       "      <td>5</td>\n",
       "      <td>0.639386</td>\n",
       "      <td>74328</td>\n",
       "      <td>0.189665</td>\n",
       "      <td>0.449721</td>\n",
       "    </tr>\n",
       "  </tbody>\n",
       "</table>\n",
       "</div>"
      ],
      "text/plain": [
       "                       # of incidents  % of incidents  Population   % of Pop  \\\n",
       "San Bernardino County              71        9.079284     2135724   5.449800   \n",
       "Kern County                        36        4.603581      886803   2.262886   \n",
       "Riverside County                   60        7.672634     2348213   5.992015   \n",
       "Los Angeles County                212       27.109974    10182961  25.984210   \n",
       "San Joaquin County                 23        2.941176      735677   1.877252   \n",
       "Fresno County                      26        3.324808      985079   2.513660   \n",
       "Santa Barbara County               15        1.918159      447295   1.141378   \n",
       "Tulare County                      14        1.790281      466563   1.190545   \n",
       "Contra Costa County                27        3.452685     1126824   2.875355   \n",
       "Yuba County                         5        0.639386       74328   0.189665   \n",
       "\n",
       "                       % difference  \n",
       "San Bernardino County      3.629484  \n",
       "Kern County                2.340695  \n",
       "Riverside County           1.680619  \n",
       "Los Angeles County         1.125765  \n",
       "San Joaquin County         1.063924  \n",
       "Fresno County              0.811148  \n",
       "Santa Barbara County       0.776781  \n",
       "Tulare County              0.599737  \n",
       "Contra Costa County        0.577330  \n",
       "Yuba County                0.449721  "
      ]
     },
     "execution_count": 15,
     "metadata": {},
     "output_type": "execute_result"
    }
   ],
   "source": [
    "incidents_county.sort_values(by='% difference', ascending=False).head(10)"
   ]
  },
  {
   "cell_type": "code",
   "execution_count": 16,
   "metadata": {},
   "outputs": [],
   "source": [
    "top_10 = incidents_county.sort_values(by='% of incidents', ascending=False).head(10)"
   ]
  },
  {
   "cell_type": "code",
   "execution_count": 17,
   "metadata": {},
   "outputs": [
    {
     "data": {
      "text/plain": [
       "<matplotlib.text.Text at 0x7f0991345080>"
      ]
     },
     "execution_count": 17,
     "metadata": {},
     "output_type": "execute_result"
    },
    {
     "data": {
      "image/png": "[encoded data removed]",
      "text/plain": [
       "<matplotlib.figure.Figure at 0x7f09913e9198>"
      ]
     },
     "metadata": {},
     "output_type": "display_data"
    }
   ],
   "source": [
    "sns.barplot(top_10['% of incidents'], top_10.index, palette='Blues_d', )\n",
    "plt.title('Top 10 Counties w Incidents of UOF')\n",
    "plt.xlabel('Rate (%) of incidents')"
   ]
  },
  {
   "cell_type": "markdown",
   "metadata": {},
   "source": [
    "## Death Incident Rate"
   ]
  },
  {
   "cell_type": "code",
   "execution_count": 18,
   "metadata": {},
   "outputs": [],
   "source": [
    "county_death_count = []\n",
    "\n",
    "for x in top_10.index:\n",
    "    df = civilian_df[civilian_df['County'] == x]\n",
    "    death_count = df[df['Injury_Level'] == 'Death'].shape[0]\n",
    "    county_death_count.append(death_count)"
   ]
  },
  {
   "cell_type": "code",
   "execution_count": 19,
   "metadata": {},
   "outputs": [
    {
     "data": {
      "text/plain": [
       "[55, 9, 12, 13, 9, 5, 4, 4, 2, 7]"
      ]
     },
     "execution_count": 19,
     "metadata": {},
     "output_type": "execute_result"
    }
   ],
   "source": [
    "county_death_count"
   ]
  },
  {
   "cell_type": "code",
   "execution_count": 20,
   "metadata": {},
   "outputs": [],
   "source": [
    "top_10['# of deaths'] = county_death_count"
   ]
  },
  {
   "cell_type": "code",
   "execution_count": 21,
   "metadata": {},
   "outputs": [
    {
     "ename": "ValueError",
     "evalue": "Length mismatch: Expected axis has 6 elements, new values have 7 elements",
     "output_type": "error",
     "traceback": [
      "\u001b[0;31m---------------------------------------------------------------------------\u001b[0m",
      "\u001b[0;31mValueError\u001b[0m                                Traceback (most recent call last)",
      "\u001b[0;32m<ipython-input-21-318b391f63c9>\u001b[0m in \u001b[0;36m<module>\u001b[0;34m()\u001b[0m\n\u001b[1;32m      1\u001b[0m top_10.columns = ['# of incidents', '% of total UoF incidents', 'Population', '% of total pop',\n\u001b[0;32m----> 2\u001b[0;31m        '% difference', '# of deaths', 'death rate (%)']\n\u001b[0m",
      "\u001b[0;32m/opt/conda/lib/python3.6/site-packages/pandas/core/generic.py\u001b[0m in \u001b[0;36m__setattr__\u001b[0;34m(self, name, value)\u001b[0m\n\u001b[1;32m   2755\u001b[0m         \u001b[0;32mtry\u001b[0m\u001b[0;34m:\u001b[0m\u001b[0;34m\u001b[0m\u001b[0m\n\u001b[1;32m   2756\u001b[0m             \u001b[0mobject\u001b[0m\u001b[0;34m.\u001b[0m\u001b[0m__getattribute__\u001b[0m\u001b[0;34m(\u001b[0m\u001b[0mself\u001b[0m\u001b[0;34m,\u001b[0m \u001b[0mname\u001b[0m\u001b[0;34m)\u001b[0m\u001b[0;34m\u001b[0m\u001b[0m\n\u001b[0;32m-> 2757\u001b[0;31m             \u001b[0;32mreturn\u001b[0m \u001b[0mobject\u001b[0m\u001b[0;34m.\u001b[0m\u001b[0m__setattr__\u001b[0m\u001b[0;34m(\u001b[0m\u001b[0mself\u001b[0m\u001b[0;34m,\u001b[0m \u001b[0mname\u001b[0m\u001b[0;34m,\u001b[0m \u001b[0mvalue\u001b[0m\u001b[0;34m)\u001b[0m\u001b[0;34m\u001b[0m\u001b[0m\n\u001b[0m\u001b[1;32m   2758\u001b[0m         \u001b[0;32mexcept\u001b[0m \u001b[0mAttributeError\u001b[0m\u001b[0;34m:\u001b[0m\u001b[0;34m\u001b[0m\u001b[0m\n\u001b[1;32m   2759\u001b[0m             \u001b[0;32mpass\u001b[0m\u001b[0;34m\u001b[0m\u001b[0m\n",
      "\u001b[0;32mpandas/src/properties.pyx\u001b[0m in \u001b[0;36mpandas.lib.AxisProperty.__set__ (pandas/lib.c:46249)\u001b[0;34m()\u001b[0m\n",
      "\u001b[0;32m/opt/conda/lib/python3.6/site-packages/pandas/core/generic.py\u001b[0m in \u001b[0;36m_set_axis\u001b[0;34m(self, axis, labels)\u001b[0m\n\u001b[1;32m    446\u001b[0m \u001b[0;34m\u001b[0m\u001b[0m\n\u001b[1;32m    447\u001b[0m     \u001b[0;32mdef\u001b[0m \u001b[0m_set_axis\u001b[0m\u001b[0;34m(\u001b[0m\u001b[0mself\u001b[0m\u001b[0;34m,\u001b[0m \u001b[0maxis\u001b[0m\u001b[0;34m,\u001b[0m \u001b[0mlabels\u001b[0m\u001b[0;34m)\u001b[0m\u001b[0;34m:\u001b[0m\u001b[0;34m\u001b[0m\u001b[0m\n\u001b[0;32m--> 448\u001b[0;31m         \u001b[0mself\u001b[0m\u001b[0;34m.\u001b[0m\u001b[0m_data\u001b[0m\u001b[0;34m.\u001b[0m\u001b[0mset_axis\u001b[0m\u001b[0;34m(\u001b[0m\u001b[0maxis\u001b[0m\u001b[0;34m,\u001b[0m \u001b[0mlabels\u001b[0m\u001b[0;34m)\u001b[0m\u001b[0;34m\u001b[0m\u001b[0m\n\u001b[0m\u001b[1;32m    449\u001b[0m         \u001b[0mself\u001b[0m\u001b[0;34m.\u001b[0m\u001b[0m_clear_item_cache\u001b[0m\u001b[0;34m(\u001b[0m\u001b[0;34m)\u001b[0m\u001b[0;34m\u001b[0m\u001b[0m\n\u001b[1;32m    450\u001b[0m \u001b[0;34m\u001b[0m\u001b[0m\n",
      "\u001b[0;32m/opt/conda/lib/python3.6/site-packages/pandas/core/internals.py\u001b[0m in \u001b[0;36mset_axis\u001b[0;34m(self, axis, new_labels)\u001b[0m\n\u001b[1;32m   2800\u001b[0m             raise ValueError('Length mismatch: Expected axis has %d elements, '\n\u001b[1;32m   2801\u001b[0m                              \u001b[0;34m'new values have %d elements'\u001b[0m \u001b[0;34m%\u001b[0m\u001b[0;34m\u001b[0m\u001b[0m\n\u001b[0;32m-> 2802\u001b[0;31m                              (old_len, new_len))\n\u001b[0m\u001b[1;32m   2803\u001b[0m \u001b[0;34m\u001b[0m\u001b[0m\n\u001b[1;32m   2804\u001b[0m         \u001b[0mself\u001b[0m\u001b[0;34m.\u001b[0m\u001b[0maxes\u001b[0m\u001b[0;34m[\u001b[0m\u001b[0maxis\u001b[0m\u001b[0;34m]\u001b[0m \u001b[0;34m=\u001b[0m \u001b[0mnew_labels\u001b[0m\u001b[0;34m\u001b[0m\u001b[0m\n",
      "\u001b[0;31mValueError\u001b[0m: Length mismatch: Expected axis has 6 elements, new values have 7 elements"
     ]
    }
   ],
   "source": [
    "top_10.columns = ['# of incidents', '% of total UoF incidents', 'Population', '% of total pop',\n",
    "       '% difference', '# of deaths', 'death rate (%)']"
   ]
  },
  {
   "cell_type": "code",
   "execution_count": 22,
   "metadata": {},
   "outputs": [
    {
     "data": {
      "text/html": [
       "<div>\n",
       "<table border=\"1\" class=\"dataframe\">\n",
       "  <thead>\n",
       "    <tr style=\"text-align: right;\">\n",
       "      <th></th>\n",
       "      <th># of incidents</th>\n",
       "      <th>% of incidents</th>\n",
       "      <th>Population</th>\n",
       "      <th>% of Pop</th>\n",
       "      <th>% difference</th>\n",
       "      <th># of deaths</th>\n",
       "    </tr>\n",
       "  </thead>\n",
       "  <tbody>\n",
       "    <tr>\n",
       "      <th>Los Angeles County</th>\n",
       "      <td>212</td>\n",
       "      <td>27.109974</td>\n",
       "      <td>10182961</td>\n",
       "      <td>25.984210</td>\n",
       "      <td>1.125765</td>\n",
       "      <td>55</td>\n",
       "    </tr>\n",
       "    <tr>\n",
       "      <th>San Bernardino County</th>\n",
       "      <td>71</td>\n",
       "      <td>9.079284</td>\n",
       "      <td>2135724</td>\n",
       "      <td>5.449800</td>\n",
       "      <td>3.629484</td>\n",
       "      <td>9</td>\n",
       "    </tr>\n",
       "    <tr>\n",
       "      <th>Orange County</th>\n",
       "      <td>61</td>\n",
       "      <td>7.800512</td>\n",
       "      <td>3172152</td>\n",
       "      <td>8.094489</td>\n",
       "      <td>-0.293977</td>\n",
       "      <td>12</td>\n",
       "    </tr>\n",
       "    <tr>\n",
       "      <th>Riverside County</th>\n",
       "      <td>60</td>\n",
       "      <td>7.672634</td>\n",
       "      <td>2348213</td>\n",
       "      <td>5.992015</td>\n",
       "      <td>1.680619</td>\n",
       "      <td>13</td>\n",
       "    </tr>\n",
       "    <tr>\n",
       "      <th>San Diego County</th>\n",
       "      <td>49</td>\n",
       "      <td>6.265985</td>\n",
       "      <td>3286717</td>\n",
       "      <td>8.386828</td>\n",
       "      <td>-2.120843</td>\n",
       "      <td>9</td>\n",
       "    </tr>\n",
       "    <tr>\n",
       "      <th>Kern County</th>\n",
       "      <td>36</td>\n",
       "      <td>4.603581</td>\n",
       "      <td>886803</td>\n",
       "      <td>2.262886</td>\n",
       "      <td>2.340695</td>\n",
       "      <td>5</td>\n",
       "    </tr>\n",
       "    <tr>\n",
       "      <th>Contra Costa County</th>\n",
       "      <td>27</td>\n",
       "      <td>3.452685</td>\n",
       "      <td>1126824</td>\n",
       "      <td>2.875355</td>\n",
       "      <td>0.577330</td>\n",
       "      <td>4</td>\n",
       "    </tr>\n",
       "    <tr>\n",
       "      <th>Fresno County</th>\n",
       "      <td>26</td>\n",
       "      <td>3.324808</td>\n",
       "      <td>985079</td>\n",
       "      <td>2.513660</td>\n",
       "      <td>0.811148</td>\n",
       "      <td>4</td>\n",
       "    </tr>\n",
       "    <tr>\n",
       "      <th>Santa Clara County</th>\n",
       "      <td>24</td>\n",
       "      <td>3.069054</td>\n",
       "      <td>1922619</td>\n",
       "      <td>4.906013</td>\n",
       "      <td>-1.836959</td>\n",
       "      <td>2</td>\n",
       "    </tr>\n",
       "    <tr>\n",
       "      <th>San Joaquin County</th>\n",
       "      <td>23</td>\n",
       "      <td>2.941176</td>\n",
       "      <td>735677</td>\n",
       "      <td>1.877252</td>\n",
       "      <td>1.063924</td>\n",
       "      <td>7</td>\n",
       "    </tr>\n",
       "  </tbody>\n",
       "</table>\n",
       "</div>"
      ],
      "text/plain": [
       "                       # of incidents  % of incidents  Population   % of Pop  \\\n",
       "Los Angeles County                212       27.109974    10182961  25.984210   \n",
       "San Bernardino County              71        9.079284     2135724   5.449800   \n",
       "Orange County                      61        7.800512     3172152   8.094489   \n",
       "Riverside County                   60        7.672634     2348213   5.992015   \n",
       "San Diego County                   49        6.265985     3286717   8.386828   \n",
       "Kern County                        36        4.603581      886803   2.262886   \n",
       "Contra Costa County                27        3.452685     1126824   2.875355   \n",
       "Fresno County                      26        3.324808      985079   2.513660   \n",
       "Santa Clara County                 24        3.069054     1922619   4.906013   \n",
       "San Joaquin County                 23        2.941176      735677   1.877252   \n",
       "\n",
       "                       % difference  # of deaths  \n",
       "Los Angeles County         1.125765           55  \n",
       "San Bernardino County      3.629484            9  \n",
       "Orange County             -0.293977           12  \n",
       "Riverside County           1.680619           13  \n",
       "San Diego County          -2.120843            9  \n",
       "Kern County                2.340695            5  \n",
       "Contra Costa County        0.577330            4  \n",
       "Fresno County              0.811148            4  \n",
       "Santa Clara County        -1.836959            2  \n",
       "San Joaquin County         1.063924            7  "
      ]
     },
     "execution_count": 22,
     "metadata": {},
     "output_type": "execute_result"
    }
   ],
   "source": [
    "top_10"
   ]
  },
  {
   "cell_type": "code",
   "execution_count": 23,
   "metadata": {},
   "outputs": [],
   "source": [
    "death_rate_list = []\n",
    "\n",
    "for indx, row in top_10.iterrows():\n",
    "    death_rate = (row['# of deaths']/row['# of incidents'])*100\n",
    "    death_rate_list.append(death_rate)"
   ]
  },
  {
   "cell_type": "code",
   "execution_count": 24,
   "metadata": {},
   "outputs": [
    {
     "data": {
      "text/plain": [
       "[25.943396226415093,\n",
       " 12.676056338028168,\n",
       " 19.672131147540984,\n",
       " 21.666666666666668,\n",
       " 18.367346938775512,\n",
       " 13.888888888888889,\n",
       " 14.814814814814813,\n",
       " 15.384615384615385,\n",
       " 8.3333333333333321,\n",
       " 30.434782608695656]"
      ]
     },
     "execution_count": 24,
     "metadata": {},
     "output_type": "execute_result"
    }
   ],
   "source": [
    "death_rate_list"
   ]
  },
  {
   "cell_type": "code",
   "execution_count": 25,
   "metadata": {},
   "outputs": [],
   "source": [
    "top_10['death rate (%)'] = death_rate_list"
   ]
  },
  {
   "cell_type": "code",
   "execution_count": 26,
   "metadata": {
    "scrolled": true
   },
   "outputs": [
    {
     "data": {
      "text/html": [
       "<div>\n",
       "<table border=\"1\" class=\"dataframe\">\n",
       "  <thead>\n",
       "    <tr style=\"text-align: right;\">\n",
       "      <th></th>\n",
       "      <th># of incidents</th>\n",
       "      <th>% of incidents</th>\n",
       "      <th>Population</th>\n",
       "      <th>% of Pop</th>\n",
       "      <th>% difference</th>\n",
       "      <th># of deaths</th>\n",
       "      <th>death rate (%)</th>\n",
       "    </tr>\n",
       "  </thead>\n",
       "  <tbody>\n",
       "    <tr>\n",
       "      <th>San Joaquin County</th>\n",
       "      <td>23</td>\n",
       "      <td>2.941176</td>\n",
       "      <td>735677</td>\n",
       "      <td>1.877252</td>\n",
       "      <td>1.063924</td>\n",
       "      <td>7</td>\n",
       "      <td>30.434783</td>\n",
       "    </tr>\n",
       "    <tr>\n",
       "      <th>Los Angeles County</th>\n",
       "      <td>212</td>\n",
       "      <td>27.109974</td>\n",
       "      <td>10182961</td>\n",
       "      <td>25.984210</td>\n",
       "      <td>1.125765</td>\n",
       "      <td>55</td>\n",
       "      <td>25.943396</td>\n",
       "    </tr>\n",
       "    <tr>\n",
       "      <th>Riverside County</th>\n",
       "      <td>60</td>\n",
       "      <td>7.672634</td>\n",
       "      <td>2348213</td>\n",
       "      <td>5.992015</td>\n",
       "      <td>1.680619</td>\n",
       "      <td>13</td>\n",
       "      <td>21.666667</td>\n",
       "    </tr>\n",
       "    <tr>\n",
       "      <th>Orange County</th>\n",
       "      <td>61</td>\n",
       "      <td>7.800512</td>\n",
       "      <td>3172152</td>\n",
       "      <td>8.094489</td>\n",
       "      <td>-0.293977</td>\n",
       "      <td>12</td>\n",
       "      <td>19.672131</td>\n",
       "    </tr>\n",
       "    <tr>\n",
       "      <th>San Diego County</th>\n",
       "      <td>49</td>\n",
       "      <td>6.265985</td>\n",
       "      <td>3286717</td>\n",
       "      <td>8.386828</td>\n",
       "      <td>-2.120843</td>\n",
       "      <td>9</td>\n",
       "      <td>18.367347</td>\n",
       "    </tr>\n",
       "    <tr>\n",
       "      <th>Fresno County</th>\n",
       "      <td>26</td>\n",
       "      <td>3.324808</td>\n",
       "      <td>985079</td>\n",
       "      <td>2.513660</td>\n",
       "      <td>0.811148</td>\n",
       "      <td>4</td>\n",
       "      <td>15.384615</td>\n",
       "    </tr>\n",
       "    <tr>\n",
       "      <th>Contra Costa County</th>\n",
       "      <td>27</td>\n",
       "      <td>3.452685</td>\n",
       "      <td>1126824</td>\n",
       "      <td>2.875355</td>\n",
       "      <td>0.577330</td>\n",
       "      <td>4</td>\n",
       "      <td>14.814815</td>\n",
       "    </tr>\n",
       "    <tr>\n",
       "      <th>Kern County</th>\n",
       "      <td>36</td>\n",
       "      <td>4.603581</td>\n",
       "      <td>886803</td>\n",
       "      <td>2.262886</td>\n",
       "      <td>2.340695</td>\n",
       "      <td>5</td>\n",
       "      <td>13.888889</td>\n",
       "    </tr>\n",
       "    <tr>\n",
       "      <th>San Bernardino County</th>\n",
       "      <td>71</td>\n",
       "      <td>9.079284</td>\n",
       "      <td>2135724</td>\n",
       "      <td>5.449800</td>\n",
       "      <td>3.629484</td>\n",
       "      <td>9</td>\n",
       "      <td>12.676056</td>\n",
       "    </tr>\n",
       "    <tr>\n",
       "      <th>Santa Clara County</th>\n",
       "      <td>24</td>\n",
       "      <td>3.069054</td>\n",
       "      <td>1922619</td>\n",
       "      <td>4.906013</td>\n",
       "      <td>-1.836959</td>\n",
       "      <td>2</td>\n",
       "      <td>8.333333</td>\n",
       "    </tr>\n",
       "  </tbody>\n",
       "</table>\n",
       "</div>"
      ],
      "text/plain": [
       "                       # of incidents  % of incidents  Population   % of Pop  \\\n",
       "San Joaquin County                 23        2.941176      735677   1.877252   \n",
       "Los Angeles County                212       27.109974    10182961  25.984210   \n",
       "Riverside County                   60        7.672634     2348213   5.992015   \n",
       "Orange County                      61        7.800512     3172152   8.094489   \n",
       "San Diego County                   49        6.265985     3286717   8.386828   \n",
       "Fresno County                      26        3.324808      985079   2.513660   \n",
       "Contra Costa County                27        3.452685     1126824   2.875355   \n",
       "Kern County                        36        4.603581      886803   2.262886   \n",
       "San Bernardino County              71        9.079284     2135724   5.449800   \n",
       "Santa Clara County                 24        3.069054     1922619   4.906013   \n",
       "\n",
       "                       % difference  # of deaths  death rate (%)  \n",
       "San Joaquin County         1.063924            7       30.434783  \n",
       "Los Angeles County         1.125765           55       25.943396  \n",
       "Riverside County           1.680619           13       21.666667  \n",
       "Orange County             -0.293977           12       19.672131  \n",
       "San Diego County          -2.120843            9       18.367347  \n",
       "Fresno County              0.811148            4       15.384615  \n",
       "Contra Costa County        0.577330            4       14.814815  \n",
       "Kern County                2.340695            5       13.888889  \n",
       "San Bernardino County      3.629484            9       12.676056  \n",
       "Santa Clara County        -1.836959            2        8.333333  "
      ]
     },
     "execution_count": 26,
     "metadata": {},
     "output_type": "execute_result"
    }
   ],
   "source": [
    "top_10.sort_values(by='death rate (%)', ascending=False)"
   ]
  },
  {
   "cell_type": "code",
   "execution_count": 27,
   "metadata": {},
   "outputs": [],
   "source": [
    "top_10.to_pickle('./dataframes/top_10_counties.pkl')"
   ]
  },
  {
   "cell_type": "code",
   "execution_count": 34,
   "metadata": {},
   "outputs": [
    {
     "data": {
      "text/plain": [
       "<matplotlib.text.Text at 0x7f098d66ccc0>"
      ]
     },
     "execution_count": 34,
     "metadata": {},
     "output_type": "execute_result"
    },
    {
     "data": {
      "image/png": "[encoded data removed]",
      "text/plain": [
       "<matplotlib.figure.Figure at 0x7f098d76eeb8>"
      ]
     },
     "metadata": {},
     "output_type": "display_data"
    }
   ],
   "source": [
    "fig, ax = plt.subplots(figsize=(12,10))\n",
    "\n",
    "sns.barplot(ax=ax, x='% of incidents', y=top_10.index, data=top_10, palette=\"Blues_d\")\n",
    "plt.xlabel('Percentage (%)')\n",
    "plt.ylabel('County')\n"
   ]
  },
  {
   "cell_type": "code",
   "execution_count": 37,
   "metadata": {},
   "outputs": [
    {
     "data": {
      "text/plain": [
       "<matplotlib.text.Text at 0x7f098cca4b00>"
      ]
     },
     "execution_count": 37,
     "metadata": {},
     "output_type": "execute_result"
    },
    {
     "data": {
      "image/png": "[encoded data removed]",
      "text/plain": [
       "<matplotlib.figure.Figure at 0x7f098cc7b080>"
      ]
     },
     "metadata": {},
     "output_type": "display_data"
    }
   ],
   "source": [
    "fig, ax = plt.subplots(figsize=(12,10))\n",
    "\n",
    "sns.barplot(ax=ax, x='death rate (%)', y=top_10.sort_values(by='death rate (%)', ascending=False).index, data=top_10.sort_values(by='death rate (%)', ascending=False), palette=\"Blues_d\")\n",
    "plt.xlabel('Percentage (%)')\n",
    "plt.ylabel('County')\n"
   ]
  },
  {
   "cell_type": "code",
   "execution_count": null,
   "metadata": {},
   "outputs": [],
   "source": []
  }
 ],
 "metadata": {
  "kernelspec": {
   "display_name": "Python 3",
   "language": "python",
   "name": "python3"
  },
  "language_info": {
   "codemirror_mode": {
    "name": "ipython",
    "version": 3
   },
   "file_extension": ".py",
   "mimetype": "text/x-python",
   "name": "python",
   "nbconvert_exporter": "python",
   "pygments_lexer": "ipython3",
   "version": "3.6.2"
  }
 },
 "nbformat": 4,
 "nbformat_minor": 2
}
