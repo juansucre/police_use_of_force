{
 "cells": [
  {
   "cell_type": "code",
   "execution_count": 1,
   "metadata": {},
   "outputs": [],
   "source": [
    "import seaborn as sns\n",
    "import pandas as pd\n",
    "import numpy as np\n",
    "%matplotlib inline"
   ]
  },
  {
   "cell_type": "code",
   "execution_count": 2,
   "metadata": {},
   "outputs": [],
   "source": [
    "civilian_df = pd.read_pickle('civilians_df.pkl')"
   ]
  },
  {
   "cell_type": "code",
   "execution_count": 8,
   "metadata": {},
   "outputs": [
    {
     "data": {
      "text/plain": [
       "(832, 36)"
      ]
     },
     "execution_count": 8,
     "metadata": {},
     "output_type": "execute_result"
    }
   ],
   "source": [
    "civilian_df.shape"
   ]
  },
  {
   "cell_type": "code",
   "execution_count": 3,
   "metadata": {},
   "outputs": [],
   "source": [
    "officer_df = pd.read_pickle('officer_df.pkl')"
   ]
  },
  {
   "cell_type": "code",
   "execution_count": 4,
   "metadata": {},
   "outputs": [],
   "source": [
    "injured_civs_df = civilian_df[civilian_df['Injured'] == True]"
   ]
  },
  {
   "cell_type": "code",
   "execution_count": 5,
   "metadata": {
    "scrolled": true
   },
   "outputs": [
    {
     "data": {
      "text/html": [
       "<div>\n",
       "<table border=\"1\" class=\"dataframe\">\n",
       "  <thead>\n",
       "    <tr style=\"text-align: right;\">\n",
       "      <th></th>\n",
       "      <th>Incident_ID</th>\n",
       "      <th>Civilian_Officer</th>\n",
       "      <th>ORI</th>\n",
       "      <th>Gender</th>\n",
       "      <th>Race_Ethnic_Group</th>\n",
       "      <th>Asian_Race</th>\n",
       "      <th>Age</th>\n",
       "      <th>Injured</th>\n",
       "      <th>Injury_Level</th>\n",
       "      <th>Injury_Type</th>\n",
       "      <th>...</th>\n",
       "      <th>CIVILIAN_Resisted</th>\n",
       "      <th>CIVILIAN_Resistance_Type</th>\n",
       "      <th>CIVILIAN_Custody_Status</th>\n",
       "      <th>CIVILIAN_Confirmed_Armed</th>\n",
       "      <th>CIVILIAN_Confirmed_Armed_Weapon</th>\n",
       "      <th>CIVILIAN_K12_Type</th>\n",
       "      <th>OFFICER_Officer_Used_Force</th>\n",
       "      <th>OFFICER_Officer_Used_Force_Reason</th>\n",
       "      <th>OFFICER_On_Duty</th>\n",
       "      <th>OFFICER_Dress</th>\n",
       "    </tr>\n",
       "  </thead>\n",
       "  <tbody>\n",
       "    <tr>\n",
       "      <th>0</th>\n",
       "      <td>URSUS-01-0000-2016-DWQ</td>\n",
       "      <td>Civilian</td>\n",
       "      <td>CA0010000</td>\n",
       "      <td>Male</td>\n",
       "      <td>White</td>\n",
       "      <td>na</td>\n",
       "      <td>21-25</td>\n",
       "      <td>True</td>\n",
       "      <td>Injury</td>\n",
       "      <td>Abrasion/Laceration</td>\n",
       "      <td>...</td>\n",
       "      <td>True</td>\n",
       "      <td>Assaultive</td>\n",
       "      <td>In custody (other)</td>\n",
       "      <td>False</td>\n",
       "      <td>na</td>\n",
       "      <td>na</td>\n",
       "      <td>na</td>\n",
       "      <td>na</td>\n",
       "      <td>na</td>\n",
       "      <td>na</td>\n",
       "    </tr>\n",
       "    <tr>\n",
       "      <th>3</th>\n",
       "      <td>URSUS-01-0000-2016-FEC</td>\n",
       "      <td>Civilian</td>\n",
       "      <td>CA0010000</td>\n",
       "      <td>Female</td>\n",
       "      <td>White</td>\n",
       "      <td>na</td>\n",
       "      <td>36-40</td>\n",
       "      <td>True</td>\n",
       "      <td>Serious bodily injury</td>\n",
       "      <td>Bone fracture</td>\n",
       "      <td>...</td>\n",
       "      <td>True</td>\n",
       "      <td>Active resistance</td>\n",
       "      <td>In custody (other)</td>\n",
       "      <td>False</td>\n",
       "      <td>na</td>\n",
       "      <td>na</td>\n",
       "      <td>na</td>\n",
       "      <td>na</td>\n",
       "      <td>na</td>\n",
       "      <td>na</td>\n",
       "    </tr>\n",
       "    <tr>\n",
       "      <th>5</th>\n",
       "      <td>URSUS-01-0000-2016-MAJ</td>\n",
       "      <td>Civilian</td>\n",
       "      <td>CA0010000</td>\n",
       "      <td>Male</td>\n",
       "      <td>White</td>\n",
       "      <td>na</td>\n",
       "      <td>36-40</td>\n",
       "      <td>True</td>\n",
       "      <td>Serious bodily injury</td>\n",
       "      <td>Unconscious, Abrasion/Laceration</td>\n",
       "      <td>...</td>\n",
       "      <td>True</td>\n",
       "      <td>Active resistance</td>\n",
       "      <td>In custody (other)</td>\n",
       "      <td>False</td>\n",
       "      <td>na</td>\n",
       "      <td>na</td>\n",
       "      <td>na</td>\n",
       "      <td>na</td>\n",
       "      <td>na</td>\n",
       "      <td>na</td>\n",
       "    </tr>\n",
       "    <tr>\n",
       "      <th>8</th>\n",
       "      <td>URSUS-01-0000-2016-PCD</td>\n",
       "      <td>Civilian</td>\n",
       "      <td>CA0010000</td>\n",
       "      <td>Male</td>\n",
       "      <td>Black</td>\n",
       "      <td>na</td>\n",
       "      <td>41-45</td>\n",
       "      <td>True</td>\n",
       "      <td>Serious bodily injury</td>\n",
       "      <td>Unconscious, Abrasion/Laceration</td>\n",
       "      <td>...</td>\n",
       "      <td>True</td>\n",
       "      <td>Assaultive</td>\n",
       "      <td>In custody (other)</td>\n",
       "      <td>False</td>\n",
       "      <td>na</td>\n",
       "      <td>na</td>\n",
       "      <td>na</td>\n",
       "      <td>na</td>\n",
       "      <td>na</td>\n",
       "      <td>na</td>\n",
       "    </tr>\n",
       "    <tr>\n",
       "      <th>11</th>\n",
       "      <td>URSUS-01-0000-2016-TMU</td>\n",
       "      <td>Civilian</td>\n",
       "      <td>CA0010000</td>\n",
       "      <td>Male</td>\n",
       "      <td>Asian Indian</td>\n",
       "      <td>na</td>\n",
       "      <td>18-20</td>\n",
       "      <td>True</td>\n",
       "      <td>Serious bodily injury</td>\n",
       "      <td>Abrasion/Laceration</td>\n",
       "      <td>...</td>\n",
       "      <td>True</td>\n",
       "      <td>Passive non-compliance</td>\n",
       "      <td>In custody (other)</td>\n",
       "      <td>False</td>\n",
       "      <td>na</td>\n",
       "      <td>na</td>\n",
       "      <td>na</td>\n",
       "      <td>na</td>\n",
       "      <td>na</td>\n",
       "      <td>na</td>\n",
       "    </tr>\n",
       "  </tbody>\n",
       "</table>\n",
       "<p>5 rows × 36 columns</p>\n",
       "</div>"
      ],
      "text/plain": [
       "               Incident_ID Civilian_Officer        ORI  Gender  \\\n",
       "0   URSUS-01-0000-2016-DWQ         Civilian  CA0010000    Male   \n",
       "3   URSUS-01-0000-2016-FEC         Civilian  CA0010000  Female   \n",
       "5   URSUS-01-0000-2016-MAJ         Civilian  CA0010000    Male   \n",
       "8   URSUS-01-0000-2016-PCD         Civilian  CA0010000    Male   \n",
       "11  URSUS-01-0000-2016-TMU         Civilian  CA0010000    Male   \n",
       "\n",
       "   Race_Ethnic_Group Asian_Race    Age Injured           Injury_Level  \\\n",
       "0              White         na  21-25    True                 Injury   \n",
       "3              White         na  36-40    True  Serious bodily injury   \n",
       "5              White         na  36-40    True  Serious bodily injury   \n",
       "8              Black         na  41-45    True  Serious bodily injury   \n",
       "11      Asian Indian         na  18-20    True  Serious bodily injury   \n",
       "\n",
       "                         Injury_Type      ...      CIVILIAN_Resisted  \\\n",
       "0                Abrasion/Laceration      ...                   True   \n",
       "3                      Bone fracture      ...                   True   \n",
       "5   Unconscious, Abrasion/Laceration      ...                   True   \n",
       "8   Unconscious, Abrasion/Laceration      ...                   True   \n",
       "11               Abrasion/Laceration      ...                   True   \n",
       "\n",
       "   CIVILIAN_Resistance_Type CIVILIAN_Custody_Status CIVILIAN_Confirmed_Armed  \\\n",
       "0                Assaultive      In custody (other)                    False   \n",
       "3         Active resistance      In custody (other)                    False   \n",
       "5         Active resistance      In custody (other)                    False   \n",
       "8                Assaultive      In custody (other)                    False   \n",
       "11   Passive non-compliance      In custody (other)                    False   \n",
       "\n",
       "   CIVILIAN_Confirmed_Armed_Weapon CIVILIAN_K12_Type  \\\n",
       "0                               na                na   \n",
       "3                               na                na   \n",
       "5                               na                na   \n",
       "8                               na                na   \n",
       "11                              na                na   \n",
       "\n",
       "   OFFICER_Officer_Used_Force OFFICER_Officer_Used_Force_Reason  \\\n",
       "0                          na                                na   \n",
       "3                          na                                na   \n",
       "5                          na                                na   \n",
       "8                          na                                na   \n",
       "11                         na                                na   \n",
       "\n",
       "   OFFICER_On_Duty OFFICER_Dress  \n",
       "0               na            na  \n",
       "3               na            na  \n",
       "5               na            na  \n",
       "8               na            na  \n",
       "11              na            na  \n",
       "\n",
       "[5 rows x 36 columns]"
      ]
     },
     "execution_count": 5,
     "metadata": {},
     "output_type": "execute_result"
    }
   ],
   "source": [
    "injured_civs_df.head()"
   ]
  },
  {
   "cell_type": "code",
   "execution_count": 11,
   "metadata": {},
   "outputs": [
    {
     "data": {
      "text/plain": [
       "Index(['Incident_ID', 'Civilian_Officer', 'ORI', 'Gender', 'Race_Ethnic_Group',\n",
       "       'Asian_Race', 'Age', 'Injured', 'Injury_Level', 'Injury_Type',\n",
       "       'Medical_Aid', 'Injury_From_Preexisting_Condition',\n",
       "       'Received_Force_Location', 'Order_Of_Force_Specified',\n",
       "       'Order_Of_Force_Str', 'Received_Force', 'Received_Force_Type',\n",
       "       'DISCHARGE_OF_FIREARM_INDIVIDUAL', 'DISCHARGE_OF_FIREARM_INCIDENT',\n",
       "       'CIVILIAN_Mental_Status', 'CIVILIAN_Assaulted_Officer',\n",
       "       'CIVILIAN_Highest_Charge', 'CIVILIAN_Crime_Qualifier',\n",
       "       'CIVILIAN_Perceived_Armed', 'CIVILIAN_Perceived_Armed_Weapon',\n",
       "       'CIVILIAN_Firearm_Type', 'CIVILIAN_Resisted',\n",
       "       'CIVILIAN_Resistance_Type', 'CIVILIAN_Custody_Status',\n",
       "       'CIVILIAN_Confirmed_Armed', 'CIVILIAN_Confirmed_Armed_Weapon',\n",
       "       'CIVILIAN_K12_Type', 'OFFICER_Officer_Used_Force',\n",
       "       'OFFICER_Officer_Used_Force_Reason', 'OFFICER_On_Duty',\n",
       "       'OFFICER_Dress'],\n",
       "      dtype='object')"
      ]
     },
     "execution_count": 11,
     "metadata": {},
     "output_type": "execute_result"
    }
   ],
   "source": [
    "injured_civs_df.columns"
   ]
  },
  {
   "cell_type": "code",
   "execution_count": 15,
   "metadata": {},
   "outputs": [],
   "source": [
    "death_df = injured_civs_df[injured_civs_df['Injury_Level'] == 'Death']\n",
    "injury_df = injured_civs_df[injured_civs_df['Injury_Level'] == 'Injury']\n",
    "serious_injury_df = injured_civs_df[injured_civs_df['Injury_Level'] == 'Serious bodily injury']"
   ]
  },
  {
   "cell_type": "code",
   "execution_count": 35,
   "metadata": {},
   "outputs": [
    {
     "data": {
      "text/plain": [
       "<matplotlib.axes._subplots.AxesSubplot at 0x7f36d3d59128>"
      ]
     },
     "execution_count": 35,
     "metadata": {},
     "output_type": "execute_result"
    },
    {
     "data": {
      "image/png": "[encoded data removed]",
      "text/plain": [
       "<matplotlib.figure.Figure at 0x7f36d3f8d780>"
      ]
     },
     "metadata": {},
     "output_type": "display_data"
    }
   ],
   "source": [
    "sns.countplot(y='CIVILIAN_Resistance_Type', hue='Injury_Level',data=civilian_df)"
   ]
  },
  {
   "cell_type": "markdown",
   "metadata": {},
   "source": [
    "## Injury Level: Death"
   ]
  },
  {
   "cell_type": "code",
   "execution_count": 64,
   "metadata": {},
   "outputs": [
    {
     "name": "stdout",
     "output_type": "stream",
     "text": [
      "Total black deaths: 21\n",
      "Total white deaths: 56\n",
      "Total hispanic deaths: 68\n",
      "Total asian deaths: 6\n",
      "-------------------\n",
      "Black death rate (%): 0.17073170731707318\n",
      "White death rate (%): 0.25225225225225223\n",
      "Hispanic death rate (%): 0.22591362126245848\n",
      "Asian / Pac Isl death rate (%): 0.2608695652173913\n"
     ]
    }
   ],
   "source": [
    "black_deaths = death_df[death_df['Race_Ethnic_Group'] == 'Black']\n",
    "white_deaths = death_df[death_df['Race_Ethnic_Group'] == 'White']\n",
    "hispanic_deaths = death_df[death_df['Race_Ethnic_Group'] == 'Hispanic']\n",
    "asian_deaths = death_df[death_df['Race_Ethnic_Group'] == 'Asian / Pacific Islander']\n",
    "\n",
    "\n",
    "print('Total black deaths:', len(black_deaths))\n",
    "print('Total white deaths:', len(white_deaths))\n",
    "print('Total hispanic deaths:', len(hispanic_deaths))\n",
    "print('Total asian deaths:', len(asian_deaths))\n",
    "\n",
    "print('-------------------')\n",
    "\n",
    "print('Black death rate (%):', len(black_deaths)/len(injured_civs_df[injured_civs_df['Race_Ethnic_Group'] == 'Black']))\n",
    "print('White death rate (%):', len(white_deaths)/len(injured_civs_df[injured_civs_df['Race_Ethnic_Group'] == 'White']))\n",
    "print('Hispanic death rate (%):', len(hispanic_deaths)/len(injured_civs_df[injured_civs_df['Race_Ethnic_Group'] == 'Hispanic']))\n",
    "print('Asian / Pac Isl death rate (%):', len(asian_deaths)/len(injured_civs_df[injured_civs_df['Race_Ethnic_Group'] == 'Asian / Pacific Islander']))\n",
    "\n"
   ]
  },
  {
   "cell_type": "code",
   "execution_count": 25,
   "metadata": {},
   "outputs": [
    {
     "data": {
      "text/plain": [
       "<matplotlib.axes._subplots.AxesSubplot at 0x7f36d8abc400>"
      ]
     },
     "execution_count": 25,
     "metadata": {},
     "output_type": "execute_result"
    },
    {
     "data": {
      "image/png": "[encoded data removed]",
      "text/plain": [
       "<matplotlib.figure.Figure at 0x7f36d8ac7630>"
      ]
     },
     "metadata": {},
     "output_type": "display_data"
    }
   ],
   "source": [
    "sns.countplot(y='Injury_Type', data=death_df)"
   ]
  },
  {
   "cell_type": "code",
   "execution_count": 26,
   "metadata": {},
   "outputs": [
    {
     "data": {
      "text/plain": [
       "<matplotlib.axes._subplots.AxesSubplot at 0x7f36d8a32e80>"
      ]
     },
     "execution_count": 26,
     "metadata": {},
     "output_type": "execute_result"
    },
    {
     "data": {
      "image/png": "[encoded data removed]",
      "text/plain": [
       "<matplotlib.figure.Figure at 0x7f36d5153748>"
      ]
     },
     "metadata": {},
     "output_type": "display_data"
    }
   ],
   "source": [
    "sns.countplot(y='CIVILIAN_Resistance_Type', data=death_df)"
   ]
  },
  {
   "cell_type": "code",
   "execution_count": 28,
   "metadata": {},
   "outputs": [
    {
     "data": {
      "text/plain": [
       "<matplotlib.axes._subplots.AxesSubplot at 0x7f36d50dad68>"
      ]
     },
     "execution_count": 28,
     "metadata": {},
     "output_type": "execute_result"
    },
    {
     "data": {
      "image/png": "[encoded data removed]",
      "text/plain": [
       "<matplotlib.figure.Figure at 0x7f36d506e860>"
      ]
     },
     "metadata": {},
     "output_type": "display_data"
    }
   ],
   "source": [
    "sns.countplot(y='CIVILIAN_Perceived_Armed', data=death_df)"
   ]
  },
  {
   "cell_type": "code",
   "execution_count": 27,
   "metadata": {},
   "outputs": [
    {
     "data": {
      "text/plain": [
       "<matplotlib.axes._subplots.AxesSubplot at 0x7f36d516c5c0>"
      ]
     },
     "execution_count": 27,
     "metadata": {},
     "output_type": "execute_result"
    },
    {
     "data": {
      "image/png": "[encoded data removed]",
      "text/plain": [
       "<matplotlib.figure.Figure at 0x7f36d51118d0>"
      ]
     },
     "metadata": {},
     "output_type": "display_data"
    }
   ],
   "source": [
    "sns.countplot(y='CIVILIAN_Confirmed_Armed', data=death_df)"
   ]
  },
  {
   "cell_type": "markdown",
   "metadata": {},
   "source": [
    "## Injury Level: Serious Bodily Injury"
   ]
  },
  {
   "cell_type": "code",
   "execution_count": 65,
   "metadata": {},
   "outputs": [
    {
     "name": "stdout",
     "output_type": "stream",
     "text": [
      "Total black injury: 16\n",
      "Total white injury: 32\n",
      "Total hispanic injury: 39\n",
      "Total asian injury: 3\n",
      "-------------------\n",
      "Black injury rate (%): 0.13008130081300814\n",
      "White injury rate (%): 0.14414414414414414\n",
      "Hispanic injury rate (%): 0.12956810631229235\n",
      "Asian / Pac Isl injury rate (%): 0.13043478260869565\n"
     ]
    }
   ],
   "source": [
    "black_injury = injury_df[injury_df['Race_Ethnic_Group'] == 'Black']\n",
    "white_injury = injury_df[injury_df['Race_Ethnic_Group'] == 'White']\n",
    "hispanic_injury = injury_df[injury_df['Race_Ethnic_Group'] == 'Hispanic']\n",
    "asian_injury = injury_df[injury_df['Race_Ethnic_Group'] == 'Asian / Pacific Islander']\n",
    "\n",
    "\n",
    "print('Total black injury:', len(black_injury))\n",
    "print('Total white injury:', len(white_injury))\n",
    "print('Total hispanic injury:', len(hispanic_injury))\n",
    "print('Total asian injury:', len(asian_injury))\n",
    "\n",
    "print('-------------------')\n",
    "\n",
    "print('Black injury rate (%):', len(black_injury)/len(injured_civs_df[injured_civs_df['Race_Ethnic_Group'] == 'Black']))\n",
    "print('White injury rate (%):', len(white_injury)/len(injured_civs_df[injured_civs_df['Race_Ethnic_Group'] == 'White']))\n",
    "print('Hispanic injury rate (%):', len(hispanic_injury)/len(injured_civs_df[injured_civs_df['Race_Ethnic_Group'] == 'Hispanic']))\n",
    "print('Asian / Pac Isl injury rate (%):', len(asian_injury)/len(injured_civs_df[injured_civs_df['Race_Ethnic_Group'] == 'Asian / Pacific Islander']))\n"
   ]
  },
  {
   "cell_type": "code",
   "execution_count": 29,
   "metadata": {},
   "outputs": [
    {
     "data": {
      "text/plain": [
       "<matplotlib.axes._subplots.AxesSubplot at 0x7f36d5021f28>"
      ]
     },
     "execution_count": 29,
     "metadata": {},
     "output_type": "execute_result"
    },
    {
     "data": {
      "image/png": "[encoded data removed]",
      "text/plain": [
       "<matplotlib.figure.Figure at 0x7f36d9a18dd8>"
      ]
     },
     "metadata": {},
     "output_type": "display_data"
    }
   ],
   "source": [
    "sns.countplot(y='Injury_Type', data=injury_df)"
   ]
  },
  {
   "cell_type": "code",
   "execution_count": 30,
   "metadata": {},
   "outputs": [
    {
     "data": {
      "text/plain": [
       "<matplotlib.axes._subplots.AxesSubplot at 0x7f36d8a7f358>"
      ]
     },
     "execution_count": 30,
     "metadata": {},
     "output_type": "execute_result"
    },
    {
     "data": {
      "image/png": "[encoded data removed]",
      "text/plain": [
       "<matplotlib.figure.Figure at 0x7f36d4ff9080>"
      ]
     },
     "metadata": {},
     "output_type": "display_data"
    }
   ],
   "source": [
    "sns.countplot(y='CIVILIAN_Resistance_Type', data=injury_df)"
   ]
  },
  {
   "cell_type": "code",
   "execution_count": 31,
   "metadata": {},
   "outputs": [
    {
     "data": {
      "text/plain": [
       "<matplotlib.axes._subplots.AxesSubplot at 0x7f36d49a5908>"
      ]
     },
     "execution_count": 31,
     "metadata": {},
     "output_type": "execute_result"
    },
    {
     "data": {
      "image/png": "[encoded data removed]",
      "text/plain": [
       "<matplotlib.figure.Figure at 0x7f36d49c3710>"
      ]
     },
     "metadata": {},
     "output_type": "display_data"
    }
   ],
   "source": [
    "sns.countplot(y='CIVILIAN_Perceived_Armed', data=injury_df)"
   ]
  },
  {
   "cell_type": "code",
   "execution_count": 36,
   "metadata": {},
   "outputs": [
    {
     "data": {
      "text/plain": [
       "<matplotlib.axes._subplots.AxesSubplot at 0x7f36d1ed14e0>"
      ]
     },
     "execution_count": 36,
     "metadata": {},
     "output_type": "execute_result"
    },
    {
     "data": {
      "image/png": "[encoded data removed]",
      "text/plain": [
       "<matplotlib.figure.Figure at 0x7f36d1f6d2b0>"
      ]
     },
     "metadata": {},
     "output_type": "display_data"
    }
   ],
   "source": [
    "sns.countplot(y='CIVILIAN_Confirmed_Armed', data=injury_df)"
   ]
  },
  {
   "cell_type": "code",
   "execution_count": null,
   "metadata": {},
   "outputs": [],
   "source": []
  }
 ],
 "metadata": {
  "kernelspec": {
   "display_name": "Python 3",
   "language": "python",
   "name": "python3"
  },
  "language_info": {
   "codemirror_mode": {
    "name": "ipython",
    "version": 3
   },
   "file_extension": ".py",
   "mimetype": "text/x-python",
   "name": "python",
   "nbconvert_exporter": "python",
   "pygments_lexer": "ipython3",
   "version": "3.6.2"
  }
 },
 "nbformat": 4,
 "nbformat_minor": 2
}
