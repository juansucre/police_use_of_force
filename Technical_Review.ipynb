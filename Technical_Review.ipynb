{
 "cells": [
  {
   "cell_type": "code",
   "execution_count": 1,
   "metadata": {},
   "outputs": [],
   "source": [
    "import seaborn as sns\n",
    "import matplotlib.pyplot as plt\n",
    "%matplotlib inline\n",
    "\n",
    "officers = pd.read_pickle('./dataframes/off_inc_df.pkl')\n",
    "civs = pd.read_pickle('./dataframes/civ_inc_df.pkl')"
   ]
  },
  {
   "cell_type": "markdown",
   "metadata": {},
   "source": [
    "# Technical Review: Police Use of Force 2016"
   ]
  },
  {
   "cell_type": "markdown",
   "metadata": {},
   "source": [
    "## Goal\n",
    "\n",
    "The objective of this project was to analyze recently released data on police use of force in the state of California and identify potential areas for improvement in law enforcement agencies (LEAs) regarding police conduct and use of force policies."
   ]
  },
  {
   "cell_type": "markdown",
   "metadata": {},
   "source": [
    "## Background\n",
    "The main dataset for this project comes from the California Department of Justice (DOJ) and Bayes Impact. Bayes Impact is a NGO based in San Francisco that uses data to solve some of \"the world's biggest problems\". In joint effort with the California DOJ, Bayes Impact built \"a digital tool (URSUS) for the California DOJ that allows law enforcement agencies in California to digitally collect, track and report use of force that results in serious bodily injury or death.\" In 2016, all 800 California police departments were mandated to use the software. The recently released data for 2016 is available to the public.\n",
    "\n",
    "For more information on Bayes Impact and URSUS : https://www.bayesimpact.org/focus/justice\n",
    "\n",
    "## Limitations\n",
    "The main limitation of this data is the strict and narrow definition of \"use of force\". As mentioned above, agencies are only required to report data on \"incidents that result in serious bodily injury or death of either the civilian or the officer and all incidents where there is a discharge of a firearm.\" In addition to that, very few Law Enforcement Agencies (LEAs) report data on things such as police officer trainings (i.e. the amount of training hours received or whether or not police officers received training on a given topic). Having data like this could give us more insight into why we see specific trends or patterns in the data."
   ]
  },
  {
   "cell_type": "markdown",
   "metadata": {},
   "source": [
    "## Findings\n",
    "\n",
    "- Demographics\n",
    "    - Race\n",
    "- Incidents by county\n",
    "    - Top counties with incidents of UoF\n",
    "    - Top counties with high death rates in incidents of UoF\n",
    "- Incidents involving civilians with irregular mental status\n",
    "    - Drug/alcohol impairment\n",
    "    - Mental disability/developmental disability\n",
    "- Mapping of incidents\n",
    "- Logistic Regression predicting for `Injury_Level: Death`\n",
    "    \n",
    "    \n"
   ]
  },
  {
   "cell_type": "markdown",
   "metadata": {},
   "source": [
    "### Demographics\n",
    "\n",
    "#### Civilian Race:\n",
    "\n",
    "Race breakdown of civilians involved in incidents of use of force:\n",
    "\n",
    "|                        | CA Pop (%) | UoF Civilian Pop (%) | Difference (%) |\n",
    "|:----------------------:|----------|-----------|--------------|\n",
    "| **Hispanic**           | 38.9     | 42.2      | +3.3         |\n",
    "| **White**              | 37.7     | 30.0      | -7.7         |\n",
    "| **Black**              | 6.5      | 19.6      | **+13.1**        |\n",
    "| **Asian/Pacific Islander**| 15.3     | 3.6       | -11.7        |\n",
    "\n",
    "----\n",
    "\n",
    "   - *Black civilians are involved in nearly 20% of UoF incidents, despite only making up 6.5% of the total population of CA. Civilians of Asian/Pacific Islander and White race/ethnicity seem to be much less involved in UoF incidents in comparison to their respective representation of the total population.*\n",
    "   \n",
    "   *Demographics of CA source: https://www.census.gov/quickfacts/CA*\n",
    "\n",
    "#### Officer Race:\n",
    "\n",
    "Race breakdown of officers involved in incidents of use of force:\n",
    "\n",
    "|                            | UoF Police Pop (%) |\n",
    "|:----------------------:    |-----------|\n",
    "| **Hispanic**               | 31.7      |\n",
    "| **White**                  | 56.5      |\n",
    "| **Black**                  | 3.4       |\n",
    "| **Asian/Pacific Islander** | 4.8       |\n",
    "\n",
    "- *The same comparison as above would have to be made on CA police racial demographic data which unfortunately is not available for almost all LEA's in California. Ideally - were this data available - the racial breakdown would be equal to the population's.*\n",
    "\n"
   ]
  },
  {
   "cell_type": "markdown",
   "metadata": {},
   "source": [
    "#### Civilian and Officer Age Breakdown"
   ]
  },
  {
   "cell_type": "code",
   "execution_count": 74,
   "metadata": {},
   "outputs": [
    {
     "data": {
      "text/plain": [
       "<matplotlib.text.Text at 0x7f359ef4a780>"
      ]
     },
     "execution_count": 74,
     "metadata": {},
     "output_type": "execute_result"
    },
    {
     "data": {
      "image/png": "[encoded data removed]",
      "text/plain": [
       "<matplotlib.figure.Figure at 0x7f359f10aef0>"
      ]
     },
     "metadata": {},
     "output_type": "display_data"
    }
   ],
   "source": [
    "fig = plt.figure(figsize=(15,5))\n",
    "\n",
    "plt.subplot(1,2,1)\n",
    "sns.countplot(y=civs['Age'].sort_values(), palette='Blues_d')\n",
    "plt.title('Civilian Age')\n",
    "\n",
    "plt.subplot(1,2,2)\n",
    "sns.countplot(y=officers['Age'].sort_values(), palette='Blues_d')\n",
    "plt.title('Police Officer Age')"
   ]
  },
  {
   "cell_type": "markdown",
   "metadata": {},
   "source": [
    "### Incidents by County\n",
    "\n",
    "*Respective notebook: `incidents_by_county.ipynb`*"
   ]
  },
  {
   "cell_type": "markdown",
   "metadata": {},
   "source": [
    "- A total of 50 out of 58 counties in California reported at least one (1) incident of use of force. \n",
    "    - 23 counties reported five (5) or more incidents of UoF\n",
    "- The top 10 counties with the highest number of incidents are the following:\n",
    "\n",
    "| County                | # of incidents |\n",
    "|-----------------------|----------------|\n",
    "| **Los Angeles County**    | 212            |\n",
    "| **San Bernardino County** | 71             |\n",
    "| **Orange County**         | 61             |\n",
    "| **Riverside County**      | 60             |\n",
    "| **San Diego County**      | 49             |\n",
    "| **Kern County**           | 36             |\n",
    "| **Contra Costa County**   | 27             |\n",
    "| **Fresno County**         | 26             |\n",
    "| **Santa Clara County**    | 24             |\n",
    "| **San Joaquin County**    | 23             |"
   ]
  },
  {
   "cell_type": "markdown",
   "metadata": {},
   "source": [
    "#### Incidents Resulting in Death"
   ]
  },
  {
   "cell_type": "markdown",
   "metadata": {},
   "source": [
    "- Nearly **20%** (157) of civilians who were involved in incidents of UoF died.\n",
    "\n",
    "Of the top 10 counties with the highest number of incidents, San Joaquin, Los Angeles and Riverside had the highest death rates.\n",
    "\n",
    "| County                | death rate (%) |\n",
    "|-----------------------|----------------|\n",
    "| **San Joaquin County**    | 30.434783      |\n",
    "| **Los Angeles County**    | 25.943396      |\n",
    "| **Riverside County**      | 21.666667      |\n",
    "| **Orange County**         | 19.672131      |\n",
    "| **San Diego County**      | 18.367347      |\n",
    "| **Fresno County**         | 15.384615      |\n",
    "| **Contra Costa County**   | 14.814815      |\n",
    "| **Kern County**           | 13.888889      |\n",
    "| **San Bernardino County** | 12.676056      |\n",
    "| **Santa Clara County**    | 8.333333       |\n",
    "\n",
    "In San Joaquin County, nearly a third of use of force incidents resulted in death, while LA and Riverside County had almost equally high rates, **26%** and **22%** respectively."
   ]
  },
  {
   "cell_type": "code",
   "execution_count": 85,
   "metadata": {},
   "outputs": [
    {
     "data": {
      "text/html": [
       "<div>\n",
       "<table border=\"1\" class=\"dataframe\">\n",
       "  <thead>\n",
       "    <tr style=\"text-align: right;\">\n",
       "      <th></th>\n",
       "      <th># of incidents</th>\n",
       "      <th>% of total UoF incidents</th>\n",
       "      <th>Population</th>\n",
       "      <th>% of total pop</th>\n",
       "      <th>% difference</th>\n",
       "      <th># of deaths</th>\n",
       "      <th>death rate (%)</th>\n",
       "    </tr>\n",
       "  </thead>\n",
       "  <tbody>\n",
       "    <tr>\n",
       "      <th>Los Angeles County</th>\n",
       "      <td>212</td>\n",
       "      <td>27.109974</td>\n",
       "      <td>10182961</td>\n",
       "      <td>25.984210</td>\n",
       "      <td>1.125765</td>\n",
       "      <td>55</td>\n",
       "      <td>25.943396</td>\n",
       "    </tr>\n",
       "    <tr>\n",
       "      <th>San Bernardino County</th>\n",
       "      <td>71</td>\n",
       "      <td>9.079284</td>\n",
       "      <td>2135724</td>\n",
       "      <td>5.449800</td>\n",
       "      <td>3.629484</td>\n",
       "      <td>9</td>\n",
       "      <td>12.676056</td>\n",
       "    </tr>\n",
       "    <tr>\n",
       "      <th>Orange County</th>\n",
       "      <td>61</td>\n",
       "      <td>7.800512</td>\n",
       "      <td>3172152</td>\n",
       "      <td>8.094489</td>\n",
       "      <td>-0.293977</td>\n",
       "      <td>12</td>\n",
       "      <td>19.672131</td>\n",
       "    </tr>\n",
       "    <tr>\n",
       "      <th>Riverside County</th>\n",
       "      <td>60</td>\n",
       "      <td>7.672634</td>\n",
       "      <td>2348213</td>\n",
       "      <td>5.992015</td>\n",
       "      <td>1.680619</td>\n",
       "      <td>13</td>\n",
       "      <td>21.666667</td>\n",
       "    </tr>\n",
       "    <tr>\n",
       "      <th>San Diego County</th>\n",
       "      <td>49</td>\n",
       "      <td>6.265985</td>\n",
       "      <td>3286717</td>\n",
       "      <td>8.386828</td>\n",
       "      <td>-2.120843</td>\n",
       "      <td>9</td>\n",
       "      <td>18.367347</td>\n",
       "    </tr>\n",
       "    <tr>\n",
       "      <th>Kern County</th>\n",
       "      <td>36</td>\n",
       "      <td>4.603581</td>\n",
       "      <td>886803</td>\n",
       "      <td>2.262886</td>\n",
       "      <td>2.340695</td>\n",
       "      <td>5</td>\n",
       "      <td>13.888889</td>\n",
       "    </tr>\n",
       "    <tr>\n",
       "      <th>Contra Costa County</th>\n",
       "      <td>27</td>\n",
       "      <td>3.452685</td>\n",
       "      <td>1126824</td>\n",
       "      <td>2.875355</td>\n",
       "      <td>0.577330</td>\n",
       "      <td>4</td>\n",
       "      <td>14.814815</td>\n",
       "    </tr>\n",
       "    <tr>\n",
       "      <th>Fresno County</th>\n",
       "      <td>26</td>\n",
       "      <td>3.324808</td>\n",
       "      <td>985079</td>\n",
       "      <td>2.513660</td>\n",
       "      <td>0.811148</td>\n",
       "      <td>4</td>\n",
       "      <td>15.384615</td>\n",
       "    </tr>\n",
       "    <tr>\n",
       "      <th>Santa Clara County</th>\n",
       "      <td>24</td>\n",
       "      <td>3.069054</td>\n",
       "      <td>1922619</td>\n",
       "      <td>4.906013</td>\n",
       "      <td>-1.836959</td>\n",
       "      <td>2</td>\n",
       "      <td>8.333333</td>\n",
       "    </tr>\n",
       "    <tr>\n",
       "      <th>San Joaquin County</th>\n",
       "      <td>23</td>\n",
       "      <td>2.941176</td>\n",
       "      <td>735677</td>\n",
       "      <td>1.877252</td>\n",
       "      <td>1.063924</td>\n",
       "      <td>7</td>\n",
       "      <td>30.434783</td>\n",
       "    </tr>\n",
       "  </tbody>\n",
       "</table>\n",
       "</div>"
      ],
      "text/plain": [
       "                       # of incidents  % of total UoF incidents  Population  \\\n",
       "Los Angeles County                212                 27.109974    10182961   \n",
       "San Bernardino County              71                  9.079284     2135724   \n",
       "Orange County                      61                  7.800512     3172152   \n",
       "Riverside County                   60                  7.672634     2348213   \n",
       "San Diego County                   49                  6.265985     3286717   \n",
       "Kern County                        36                  4.603581      886803   \n",
       "Contra Costa County                27                  3.452685     1126824   \n",
       "Fresno County                      26                  3.324808      985079   \n",
       "Santa Clara County                 24                  3.069054     1922619   \n",
       "San Joaquin County                 23                  2.941176      735677   \n",
       "\n",
       "                       % of total pop  % difference  # of deaths  \\\n",
       "Los Angeles County          25.984210      1.125765           55   \n",
       "San Bernardino County        5.449800      3.629484            9   \n",
       "Orange County                8.094489     -0.293977           12   \n",
       "Riverside County             5.992015      1.680619           13   \n",
       "San Diego County             8.386828     -2.120843            9   \n",
       "Kern County                  2.262886      2.340695            5   \n",
       "Contra Costa County          2.875355      0.577330            4   \n",
       "Fresno County                2.513660      0.811148            4   \n",
       "Santa Clara County           4.906013     -1.836959            2   \n",
       "San Joaquin County           1.877252      1.063924            7   \n",
       "\n",
       "                       death rate (%)  \n",
       "Los Angeles County          25.943396  \n",
       "San Bernardino County       12.676056  \n",
       "Orange County               19.672131  \n",
       "Riverside County            21.666667  \n",
       "San Diego County            18.367347  \n",
       "Kern County                 13.888889  \n",
       "Contra Costa County         14.814815  \n",
       "Fresno County               15.384615  \n",
       "Santa Clara County           8.333333  \n",
       "San Joaquin County          30.434783  "
      ]
     },
     "execution_count": 85,
     "metadata": {},
     "output_type": "execute_result"
    }
   ],
   "source": [
    "top_10 = pd.read_pickle('./dataframes/top_10_counties.pkl')\n",
    "top_10"
   ]
  },
  {
   "cell_type": "markdown",
   "metadata": {},
   "source": [
    "### Incidents involving civilians with irregular mental status"
   ]
  },
  {
   "cell_type": "markdown",
   "metadata": {},
   "source": [
    "- 40% (330) of civilians involved showed some sign of irregular mental status\n",
    "    - 69% (228) of these civilians showed signs of alcohol/drug impairment\n",
    "    - 31% (102) of these civilians involved showed signs of mental disability* \n",
    "\n",
    "\n",
    " **(some of these cases may also include showing signs of alcohol/drug impairment)*\n",
    "\n",
    "\n",
    "\n",
    "| CIVILIAN_Mental_Status                                                                  | # of Incidents |\n",
    "|-----------------------------------------------------------------------------------------|-------|\n",
    "| **Signs of drug impairment**                                                                | 125   |\n",
    "| **Signs of alcohol impairment**                                                             | 72    |\n",
    "| **Signs of mental disability**                                                              | 56    |\n",
    "| **Signs of drug impairment, Signs of alcohol impairment**                                   | 31    |\n",
    "| **Signs of mental disability, Signs of drug impairment**                                    | 30    |\n",
    "| **Signs of mental disability, Signs of drug impairment, Signs of alcohol impairment**       | 7     |\n",
    "| **Signs of mental disability, Signs of alcohol impairment**                                 | 5     |\n",
    "| **Signs of developmental disability**                                                       | 2     |\n",
    "| **Signs of mental disability, Signs of developmental disability, Signs of drug impairment** | 1     |\n",
    "| **Signs of mental disability, Signs of physical disability, Signs of alcohol impairment**   | 1     |"
   ]
  },
  {
   "cell_type": "markdown",
   "metadata": {},
   "source": [
    "### Mapping\n",
    "\n",
    "*Respective notebook: `adding_geographic_and_time_data.ipynb`*"
   ]
  },
  {
   "cell_type": "markdown",
   "metadata": {},
   "source": [
    "#### All Incidents of UoF"
   ]
  },
  {
   "cell_type": "code",
   "execution_count": 107,
   "metadata": {},
   "outputs": [
    {
     "data": {
      "text/html": [
       "<iframe width='100%' height='500' src='./maps/all_incidents_map.html'></iframe>"
      ],
      "text/plain": [
       "<IPython.core.display.HTML object>"
      ]
     },
     "metadata": {},
     "output_type": "display_data"
    }
   ],
   "source": [
    "%%HTML\n",
    "<iframe width='100%' height='500' src='./maps/all_incidents_map.html'></iframe>"
   ]
  },
  {
   "cell_type": "markdown",
   "metadata": {},
   "source": [
    "#### Incidents Resulting in Death"
   ]
  },
  {
   "cell_type": "code",
   "execution_count": 95,
   "metadata": {},
   "outputs": [
    {
     "data": {
      "text/html": [
       "<iframe width='100%' height='500' src='./maps/all_death_map.html'></iframe>"
      ],
      "text/plain": [
       "<IPython.core.display.HTML object>"
      ]
     },
     "metadata": {},
     "output_type": "display_data"
    }
   ],
   "source": [
    "%%HTML\n",
    "<iframe width='100%' height='500' src='./maps/all_death_map.html'></iframe>"
   ]
  },
  {
   "cell_type": "markdown",
   "metadata": {},
   "source": [
    "#### Incidents involving civilians with signs of mental disability"
   ]
  },
  {
   "cell_type": "code",
   "execution_count": 96,
   "metadata": {},
   "outputs": [
    {
     "data": {
      "text/html": [
       "<iframe width='100%' height='500' src='./maps/all_map_mental_dis.html'></iframe>"
      ],
      "text/plain": [
       "<IPython.core.display.HTML object>"
      ]
     },
     "metadata": {},
     "output_type": "display_data"
    }
   ],
   "source": [
    "%%HTML\n",
    "<iframe width='100%' height='500' src='./maps/all_map_mental_dis.html'></iframe>"
   ]
  },
  {
   "cell_type": "markdown",
   "metadata": {},
   "source": [
    "#### Incidents involving civilians with signs of only alcohol or drug impairment"
   ]
  },
  {
   "cell_type": "code",
   "execution_count": 108,
   "metadata": {},
   "outputs": [
    {
     "data": {
      "text/html": [
       "<iframe width='100%' height='500' src='./maps/all_map_alc_drug.html'></iframe>"
      ],
      "text/plain": [
       "<IPython.core.display.HTML object>"
      ]
     },
     "metadata": {},
     "output_type": "display_data"
    }
   ],
   "source": [
    "%%HTML\n",
    "<iframe width='100%' height='500' src='./maps/all_map_alc_drug.html'></iframe>"
   ]
  },
  {
   "cell_type": "markdown",
   "metadata": {},
   "source": [
    "### Logistic Regression\n",
    "\n",
    "*Respective notebook: `logistic_regression_civilians.ipynb`*"
   ]
  }
 ],
 "metadata": {
  "kernelspec": {
   "display_name": "Python 3",
   "language": "python",
   "name": "python3"
  },
  "language_info": {
   "codemirror_mode": {
    "name": "ipython",
    "version": 3
   },
   "file_extension": ".py",
   "mimetype": "text/x-python",
   "name": "python",
   "nbconvert_exporter": "python",
   "pygments_lexer": "ipython3",
   "version": "3.6.2"
  }
 },
 "nbformat": 4,
 "nbformat_minor": 2
}
