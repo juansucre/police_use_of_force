{
 "cells": [
  {
   "cell_type": "markdown",
   "metadata": {},
   "source": [
    "# Logistic Regression Officers"
   ]
  },
  {
   "cell_type": "code",
   "execution_count": 2,
   "metadata": {},
   "outputs": [],
   "source": [
    "from sklearn.linear_model import LogisticRegression\n",
    "from sklearn.model_selection import train_test_split"
   ]
  },
  {
   "cell_type": "code",
   "execution_count": 3,
   "metadata": {},
   "outputs": [],
   "source": [
    "officer_df = pd.read_pickle('./dataframes/officer_df.pkl')"
   ]
  },
  {
   "cell_type": "code",
   "execution_count": 5,
   "metadata": {},
   "outputs": [],
   "source": [
    "officer_df = officer_df.drop(['Incident_ID', 'Civilian_Officer', 'ORI', 'Asian_Race'], axis=1)"
   ]
  },
  {
   "cell_type": "code",
   "execution_count": 6,
   "metadata": {},
   "outputs": [],
   "source": [
    "dummy_off_df = pd.get_dummies(officer_df)"
   ]
  },
  {
   "cell_type": "code",
   "execution_count": 17,
   "metadata": {
    "scrolled": true
   },
   "outputs": [
    {
     "data": {
      "text/plain": [
       "Index(['Injury_Type_Obvious disfigurement', 'Injury_Type_Unconscious',\n",
       "       'Injury_Type_Unconscious, Abrasion/Laceration',\n",
       "       'Injury_Type_Unconscious, Bone fracture',\n",
       "       'Injury_Type_Unconscious, Bone fracture, Internal injury, Gunshot wound',\n",
       "       'Injury_Type_Unconscious, Concussion, Bone fracture',\n",
       "       'Injury_Type_Unconscious, Contusion, Concussion',\n",
       "       'Injury_Type_Unconscious, Contusion, Concussion, Bone fracture',\n",
       "       'Injury_Type_Unconscious, Contusion, Concussion, Bone fracture, Internal injury, Abrasion/Laceration, Obvious disfigurement',\n",
       "       'Injury_Type_na',\n",
       "       ...\n",
       "       'OFFICER_Officer_Used_Force_Reason_To overcome resistance',\n",
       "       'OFFICER_Officer_Used_Force_Reason_To prevent escape',\n",
       "       'OFFICER_Officer_Used_Force_Reason_To prevent escape, To overcome resistance',\n",
       "       'OFFICER_Officer_Used_Force_Reason_na', 'OFFICER_On_Duty_False',\n",
       "       'OFFICER_On_Duty_True', 'OFFICER_Dress_Patrol Uniform',\n",
       "       'OFFICER_Dress_Plainclothes', 'OFFICER_Dress_Tactical',\n",
       "       'OFFICER_Dress_Utility'],\n",
       "      dtype='object', length=130)"
      ]
     },
     "execution_count": 17,
     "metadata": {},
     "output_type": "execute_result"
    }
   ],
   "source": [
    "dummy_off_df.columns[-130:]"
   ]
  },
  {
   "cell_type": "code",
   "execution_count": 25,
   "metadata": {},
   "outputs": [],
   "source": [
    "X = dummy_off_df.drop(['OFFICER_Officer_Used_Force_True',\n",
    "       'OFFICER_Officer_Used_Force_Reason_To effect arrest or take into custody',\n",
    "       'OFFICER_Officer_Used_Force_Reason_To effect arrest or take into custody, To overcome resistance',\n",
    "       'OFFICER_Officer_Used_Force_Reason_To effect arrest or take into custody, To prevent escape',\n",
    "       'OFFICER_Officer_Used_Force_Reason_To effect arrest or take into custody, To prevent escape, To overcome resistance',\n",
    "       'OFFICER_Officer_Used_Force_Reason_To overcome resistance',\n",
    "       'OFFICER_Officer_Used_Force_Reason_To prevent escape',\n",
    "       'OFFICER_Officer_Used_Force_Reason_To prevent escape, To overcome resistance',\n",
    "       'OFFICER_Officer_Used_Force_Reason_na'], axis=1)\n",
    "y = dummy_off_df['OFFICER_Officer_Used_Force_True']"
   ]
  },
  {
   "cell_type": "code",
   "execution_count": 26,
   "metadata": {},
   "outputs": [],
   "source": [
    "X_train, X_test, y_train, y_test = train_test_split(X, y, test_size=0.5, random_state=42)"
   ]
  },
  {
   "cell_type": "code",
   "execution_count": 27,
   "metadata": {},
   "outputs": [
    {
     "data": {
      "text/plain": [
       "((864, 193), (865, 193), (864,), (865,))"
      ]
     },
     "execution_count": 27,
     "metadata": {},
     "output_type": "execute_result"
    }
   ],
   "source": [
    "X_train.shape, X_test.shape, y_train.shape, y_test.shape"
   ]
  },
  {
   "cell_type": "markdown",
   "metadata": {},
   "source": [
    "### Naive LogisticRegression"
   ]
  },
  {
   "cell_type": "code",
   "execution_count": 28,
   "metadata": {},
   "outputs": [],
   "source": [
    "lr = LogisticRegression()"
   ]
  },
  {
   "cell_type": "code",
   "execution_count": 29,
   "metadata": {},
   "outputs": [
    {
     "data": {
      "text/plain": [
       "LogisticRegression(C=1.0, class_weight=None, dual=False, fit_intercept=True,\n",
       "          intercept_scaling=1, max_iter=100, multi_class='ovr', n_jobs=1,\n",
       "          penalty='l2', random_state=None, solver='liblinear', tol=0.0001,\n",
       "          verbose=0, warm_start=False)"
      ]
     },
     "execution_count": 29,
     "metadata": {},
     "output_type": "execute_result"
    }
   ],
   "source": [
    "lr.fit(X_train, y_train)"
   ]
  },
  {
   "cell_type": "code",
   "execution_count": 30,
   "metadata": {},
   "outputs": [
    {
     "data": {
      "text/plain": [
       "1.0"
      ]
     },
     "execution_count": 30,
     "metadata": {},
     "output_type": "execute_result"
    }
   ],
   "source": [
    "lr.score(X_test, y_test)"
   ]
  },
  {
   "cell_type": "code",
   "execution_count": 31,
   "metadata": {},
   "outputs": [
    {
     "data": {
      "text/html": [
       "<div>\n",
       "<table border=\"1\" class=\"dataframe\">\n",
       "  <thead>\n",
       "    <tr style=\"text-align: right;\">\n",
       "      <th></th>\n",
       "      <th>0</th>\n",
       "    </tr>\n",
       "  </thead>\n",
       "  <tbody>\n",
       "    <tr>\n",
       "      <th>Order_Of_Force_Specified_na</th>\n",
       "      <td>0.569237</td>\n",
       "    </tr>\n",
       "    <tr>\n",
       "      <th>Order_Of_Force_Str_na</th>\n",
       "      <td>0.549487</td>\n",
       "    </tr>\n",
       "    <tr>\n",
       "      <th>OFFICER_On_Duty_True</th>\n",
       "      <td>0.529573</td>\n",
       "    </tr>\n",
       "    <tr>\n",
       "      <th>Gender_Male</th>\n",
       "      <td>0.457946</td>\n",
       "    </tr>\n",
       "    <tr>\n",
       "      <th>Received_Force_Type_Civilian physical contact</th>\n",
       "      <td>0.456156</td>\n",
       "    </tr>\n",
       "    <tr>\n",
       "      <th>Age_31-35</th>\n",
       "      <td>0.377179</td>\n",
       "    </tr>\n",
       "    <tr>\n",
       "      <th>Received_Force</th>\n",
       "      <td>0.370321</td>\n",
       "    </tr>\n",
       "    <tr>\n",
       "      <th>Injury_Level_Injury</th>\n",
       "      <td>0.334861</td>\n",
       "    </tr>\n",
       "    <tr>\n",
       "      <th>OFFICER_Dress_Patrol Uniform</th>\n",
       "      <td>0.326357</td>\n",
       "    </tr>\n",
       "    <tr>\n",
       "      <th>Injury_From_Preexisting_Condition_False</th>\n",
       "      <td>0.313175</td>\n",
       "    </tr>\n",
       "    <tr>\n",
       "      <th>Injured_True</th>\n",
       "      <td>0.301850</td>\n",
       "    </tr>\n",
       "    <tr>\n",
       "      <th>DISCHARGE_OF_FIREARM_INCIDENT</th>\n",
       "      <td>0.287722</td>\n",
       "    </tr>\n",
       "    <tr>\n",
       "      <th>Received_Force_Type_Knife, blade, or stabbing instrument</th>\n",
       "      <td>0.273459</td>\n",
       "    </tr>\n",
       "    <tr>\n",
       "      <th>Medical_Aid_na</th>\n",
       "      <td>0.247637</td>\n",
       "    </tr>\n",
       "    <tr>\n",
       "      <th>Injured_False</th>\n",
       "      <td>0.247637</td>\n",
       "    </tr>\n",
       "  </tbody>\n",
       "</table>\n",
       "</div>"
      ],
      "text/plain": [
       "                                                           0\n",
       "Order_Of_Force_Specified_na                         0.569237\n",
       "Order_Of_Force_Str_na                               0.549487\n",
       "OFFICER_On_Duty_True                                0.529573\n",
       "Gender_Male                                         0.457946\n",
       "Received_Force_Type_Civilian physical contact       0.456156\n",
       "Age_31-35                                           0.377179\n",
       "Received_Force                                      0.370321\n",
       "Injury_Level_Injury                                 0.334861\n",
       "OFFICER_Dress_Patrol Uniform                        0.326357\n",
       "Injury_From_Preexisting_Condition_False             0.313175\n",
       "Injured_True                                        0.301850\n",
       "DISCHARGE_OF_FIREARM_INCIDENT                       0.287722\n",
       "Received_Force_Type_Knife, blade, or stabbing i...  0.273459\n",
       "Medical_Aid_na                                      0.247637\n",
       "Injured_False                                       0.247637"
      ]
     },
     "execution_count": 31,
     "metadata": {},
     "output_type": "execute_result"
    }
   ],
   "source": [
    "pd.DataFrame(lr.coef_[0], index=X.columns).sort_values(by=0, ascending=False).head(15)"
   ]
  },
  {
   "cell_type": "code",
   "execution_count": null,
   "metadata": {},
   "outputs": [],
   "source": []
  },
  {
   "cell_type": "code",
   "execution_count": null,
   "metadata": {},
   "outputs": [],
   "source": []
  }
 ],
 "metadata": {
  "kernelspec": {
   "display_name": "Python 3",
   "language": "python",
   "name": "python3"
  },
  "language_info": {
   "codemirror_mode": {
    "name": "ipython",
    "version": 3
   },
   "file_extension": ".py",
   "mimetype": "text/x-python",
   "name": "python",
   "nbconvert_exporter": "python",
   "pygments_lexer": "ipython3",
   "version": "3.6.2"
  }
 },
 "nbformat": 4,
 "nbformat_minor": 2
}
